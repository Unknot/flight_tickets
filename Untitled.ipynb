{
 "cells": [
  {
   "cell_type": "code",
   "execution_count": 74,
   "metadata": {
    "collapsed": false
   },
   "outputs": [],
   "source": [
    "import pandas as pd\n",
    "import numpy as np\n",
    "import matplotlib.pylab as plt\n",
    "%matplotlib inline\n",
    "from matplotlib.pylab import rcParams\n",
    "rcParams['figure.figsize'] = 15, 6\n",
    "\n",
    "import datetime\n",
    "\n",
    "data = pd.read_csv(\"/home/alexander/Desktop/flight_tickets/training_data.csv\",\n",
    "                   header=0,\n",
    "                   parse_dates=[\"date\", \"outbounddate\", \"inbounddate\"],\n",
    "                   date_parser=pd.to_datetime)\n",
    "\n",
    "# print(data[\"date\"])\n",
    "\n"
   ]
  },
  {
   "cell_type": "code",
   "execution_count": 75,
   "metadata": {
    "collapsed": false
   },
   "outputs": [
    {
     "data": {
      "text/plain": [
       "[<matplotlib.lines.Line2D at 0x7f8dd3ab1048>]"
      ]
     },
     "execution_count": 75,
     "metadata": {},
     "output_type": "execute_result"
    },
    {
     "data": {
      "image/png": "[encoded data removed]",
      "text/plain": [
       "<matplotlib.figure.Figure at 0x7f8dd3b275f8>"
      ]
     },
     "metadata": {},
     "output_type": "display_data"
    }
   ],
   "source": [
    "# print(data[\"priceusd\"])\n",
    "# sub1 = data[[\"outbounddate\", \"priceusd\"]]\n",
    "# plt.plot(sub1)\n",
    "\n",
    "data[\"price_per_person\"] = data[\"priceusd\"]/(data[\"adults\"]+data[\"children\"])\n",
    "\n",
    "sub1 = data.groupby(\"date\")[\"price_per_person\"].mean()\n",
    "plt.plot(sub1)"
   ]
  },
  {
   "cell_type": "code",
   "execution_count": 76,
   "metadata": {
    "collapsed": false
   },
   "outputs": [],
   "source": [
    "import datetime as dt\n",
    "# print(dt.datetime.utcfromtimestamp(0))\n",
    "# print(data.loc[1, \"date\"] -dt.datetime.utcfromtimestamp(0) )\n",
    "\n",
    "def get_day_nr(x):\n",
    "    try:\n",
    "        return ((x-dt.datetime.utcfromtimestamp(0))/np.timedelta64(1, 'D')).astype(int)\n",
    "    except:\n",
    "        return np.nan\n",
    "\n",
    "data[\"date\"] = data[\"date\"].apply(get_day_nr)\n",
    "data[\"outbounddate\"] = data[\"outbounddate\"].apply(get_day_nr)\n",
    "data[\"inbounddate\"] = data[\"inbounddate\"].apply(get_day_nr)"
   ]
  },
  {
   "cell_type": "code",
   "execution_count": 77,
   "metadata": {
    "collapsed": false
   },
   "outputs": [
    {
     "name": "stdout",
     "output_type": "stream",
     "text": [
      "        date  outbounddate  inbounddate\n",
      "0      16846         16904        16908\n",
      "1      16846         16916        16924\n",
      "2      16846         16862        16864\n",
      "3      16846         16864        16867\n",
      "4      16846         17051        17055\n",
      "5      16846         17068        17082\n",
      "6      16846         16879        16884\n",
      "7      16846         16956        16964\n",
      "8      16846         17084        17091\n",
      "9      16846         16972        16978\n",
      "10     16846         16912        16917\n",
      "11     16846         17059        17062\n",
      "12     16846         17003          NaN\n",
      "13     16846         17009        17014\n",
      "14     16846         16965        16974\n",
      "15     16846         16993        17000\n",
      "16     16846         16916          NaN\n",
      "17     16846         16935        16949\n",
      "18     16846         16924        16935\n",
      "19     16846         16981        16990\n",
      "20     16846         16859        16865\n",
      "21     16846         16886          NaN\n",
      "22     16846         17001        17022\n",
      "23     16846         16923        16928\n",
      "24     16846         16945        16951\n",
      "25     16846         16861        16864\n",
      "26     16846         16970          NaN\n",
      "27     16846         16928        16931\n",
      "28     16846         17005        17014\n",
      "29     16846         16935        16952\n",
      "...      ...           ...          ...\n",
      "75198  16871         16909        16913\n",
      "75199  16871         17038          NaN\n",
      "75200  16871         16969        16985\n",
      "75201  16871         16896        16898\n",
      "75202  16871         16896        16898\n",
      "75203  16871         16896        16898\n",
      "75204  16871         16896        16898\n",
      "75205  16871         16878          NaN\n",
      "75206  16871         16896        16898\n",
      "75207  16871         16899        16907\n",
      "75208  16871         16896        16898\n",
      "75209  16871         16896        16898\n",
      "75210  16871         16891        16898\n",
      "75211  16871         16896        16898\n",
      "75212  16871         17087        17090\n",
      "75213  16871         16921        16931\n",
      "75214  16871         16896        16898\n",
      "75215  16871         16896        16898\n",
      "75216  16871         16887          NaN\n",
      "75217  16871         16896        16898\n",
      "75218  16871         16887        16895\n",
      "75219  16871         16896        16898\n",
      "75220  16871         16896        16900\n",
      "75221  16871         16944        16950\n",
      "75222  16871         16896        16903\n",
      "75223  16871         16909        16913\n",
      "75224  16871         16896        16898\n",
      "75225  16871         16902        16905\n",
      "75226  16871         17031        17044\n",
      "75227  16871         16896        16898\n",
      "\n",
      "[75228 rows x 3 columns]\n"
     ]
    }
   ],
   "source": [
    "print(data[[\"date\", \"outbounddate\", \"inbounddate\"]])"
   ]
  }
 ],
 "metadata": {
  "kernelspec": {
   "display_name": "Python 3",
   "language": "python",
   "name": "python3"
  },
  "language_info": {
   "codemirror_mode": {
    "name": "ipython",
    "version": 3
   },
   "file_extension": ".py",
   "mimetype": "text/x-python",
   "name": "python",
   "nbconvert_exporter": "python",
   "pygments_lexer": "ipython3",
   "version": "3.5.3"
  }
 },
 "nbformat": 4,
 "nbformat_minor": 0
}
